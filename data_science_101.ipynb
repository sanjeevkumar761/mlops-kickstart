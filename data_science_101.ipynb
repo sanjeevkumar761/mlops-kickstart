{
  "nbformat": 4,
  "nbformat_minor": 0,
  "metadata": {
    "colab": {
      "provenance": [],
      "authorship_tag": "ABX9TyNezY2epMByc9xTpLlWKRd8"
    },
    "kernelspec": {
      "name": "python3",
      "display_name": "Python 3"
    },
    "language_info": {
      "name": "python"
    }
  },
  "cells": [
    {
      "cell_type": "markdown",
      "source": [
        "Ingest\n"
      ],
      "metadata": {
        "id": "9zgOadQAU0_1"
      }
    },
    {
      "cell_type": "code",
      "execution_count": null,
      "metadata": {
        "id": "GoSJHvdjUmVF"
      },
      "outputs": [],
      "source": []
    },
    {
      "cell_type": "markdown",
      "source": [
        "EDA"
      ],
      "metadata": {
        "id": "5lprOmN0U9oJ"
      }
    },
    {
      "cell_type": "code",
      "source": [],
      "metadata": {
        "id": "ztup4o_sVFoS"
      },
      "execution_count": null,
      "outputs": []
    },
    {
      "cell_type": "markdown",
      "source": [
        "Modeling"
      ],
      "metadata": {
        "id": "n8W6O-CmVVRm"
      }
    },
    {
      "cell_type": "code",
      "source": [],
      "metadata": {
        "id": "gczfnR9hVX_b"
      },
      "execution_count": null,
      "outputs": []
    },
    {
      "cell_type": "markdown",
      "source": [
        "Conclusion"
      ],
      "metadata": {
        "id": "HyL5XSUTVbng"
      }
    },
    {
      "cell_type": "code",
      "source": [],
      "metadata": {
        "id": "r9aH5u8rVc-e"
      },
      "execution_count": null,
      "outputs": []
    }
  ]
}